{
 "cells": [
  {
   "cell_type": "markdown",
   "metadata": {},
   "source": [
    "Generates the levels in the folder `./envs_conifig/*`\n",
    "\n",
    "The environments in `./envs_config/{test_envs or train_envs}/metadata.csv` are defined following the specifications at https://flatland.aicrowd.com/challenges/flatland3/envconfig.html\n",
    "\n",
    "Similarly from AMLD 2021 and NeurIPS 2020, we set:\n",
    "* `max_rails_between_cities = 2`\n",
    "* `grid_mode = False`\n",
    "* `malfunction_duration = [20,50]` \n",
    "* `malfunction_interval = 250 * (env_id+1)`, i.e. {250, ..., 2500}, just slightly different from the {0, ..., 2250} of AMLD 2021 and NeurIPS 2020\n",
    "\n",
    "Additionally, we chose:\n",
    "* `max_rail_pairs_in_city = 2`, to train on the hardest scenario"
   ]
  },
  {
   "cell_type": "code",
   "execution_count": 1,
   "metadata": {},
   "outputs": [],
   "source": [
    "import os\n",
    "import pandas as pd\n",
    "from tqdm import tqdm\n",
    "\n",
    "from flatland.envs.line_generators import sparse_line_generator\n",
    "from flatland.envs.malfunction_generators import MalfunctionParameters, ParamMalfunctionGen\n",
    "from flatland.envs.persistence import RailEnvPersister\n",
    "from flatland.envs.rail_env import RailEnv\n",
    "from flatland.envs.rail_generators import sparse_rail_generator\n",
    "\n",
    "from utils.persister import save_env_to_pickle"
   ]
  },
  {
   "cell_type": "code",
   "execution_count": null,
   "metadata": {},
   "outputs": [
    {
     "name": "stderr",
     "output_type": "stream",
     "text": [
      "100%|██████████| 4/4 [00:00<00:00, 1443.82it/s]"
     ]
    },
    {
     "name": "stdout",
     "output_type": "stream",
     "text": [
      "{1.0: 0.25, 0.5: 0.25, 0.33: 0.25, 0.25: 0.25}\n",
      "{1.0: 0.25, 0.5: 0.25, 0.33: 0.25, 0.25: 0.25}\n",
      "{1.0: 0.25, 0.5: 0.25, 0.33: 0.25, 0.25: 0.25}\n",
      "{1.0: 0.25, 0.5: 0.25, 0.33: 0.25, 0.25: 0.25}\n"
     ]
    },
    {
     "name": "stderr",
     "output_type": "stream",
     "text": [
      "\n"
     ]
    },
    {
     "ename": "",
     "evalue": "",
     "output_type": "error",
     "traceback": [
      "\u001b[1;31mThe Kernel crashed while executing code in the current cell or a previous cell. \n",
      "\u001b[1;31mPlease review the code in the cell(s) to identify a possible cause of the failure. \n",
      "\u001b[1;31mClick <a href='https://aka.ms/vscodeJupyterKernelCrash'>here</a> for more info. \n",
      "\u001b[1;31mView Jupyter <a href='command:jupyter.viewOutput'>log</a> for further details."
     ]
    }
   ],
   "source": [
    "eval_list = [\n",
    "    \"n_agents\",\n",
    "    \"x_dim\",\n",
    "    \"y_dim\",\n",
    "    \"n_cities\",\n",
    "    \"max_rail_pairs_in_city\",\n",
    "    \"n_envs_run\",\n",
    "    \"grid_mode\",\n",
    "    \"max_rails_between_cities\",\n",
    "    \"malfunction_duration_min\",\n",
    "    \"malfunction_duration_max\",\n",
    "    \"malfunction_interval\",\n",
    "    \"speed_ratios\",\n",
    "]\n",
    "\n",
    "\"\"\"\n",
    "The flatland-evaluator uses a specific format for the environment pickle, so we use RailEnvPersister.save for the test environments.\n",
    "For the training environments, we use our own save_env_to_pickle function, which e.g. saves also the random_seed.\n",
    "\"\"\"\n",
    "MODE = \"train\"  # must be set to either \"test\" or \"train\"\n",
    "if MODE == \"test\":\n",
    "    PATH = \"./envs_config/test_envs\" \n",
    "    save_function = lambda env, path: RailEnvPersister.save(env, path, save_distance_maps=True)\n",
    "elif MODE == \"train\":\n",
    "    PATH = \"./envs_config/train_envs\"\n",
    "    save_function = lambda env, path: save_env_to_pickle(env, path)\n",
    "else:\n",
    "    raise ValueError(\"Invalid mode\")\n",
    "\n",
    "parameters_flatland = pd.read_csv(PATH + \"/metadata.csv\", index_col=0)\n",
    "parameters_flatland[eval_list] = parameters_flatland[eval_list].applymap(\n",
    "    lambda x: eval(str(x))\n",
    ")\n",
    "\n",
    "for idx, env_config in tqdm(\n",
    "    parameters_flatland.iterrows(), total=parameters_flatland.shape[0]\n",
    "):\n",
    "    env_config = env_config.to_dict()\n",
    "    if not os.path.exists(os.path.join(PATH, env_config[\"test_id\"])):\n",
    "        os.mkdir(os.path.join(PATH, env_config[\"test_id\"]))\n",
    "\n",
    "\n",
    "    malfunction_parameters = MalfunctionParameters(\n",
    "        malfunction_rate=1 / env_config[\"malfunction_interval\"],\n",
    "        min_duration=env_config[\"malfunction_duration_min\"],\n",
    "        max_duration=env_config[\"malfunction_duration_max\"],\n",
    "    )\n",
    "\n",
    "    env_args = {\n",
    "        'width': env_config[\"x_dim\"],\n",
    "        'height': env_config[\"y_dim\"],\n",
    "        'rail_generator': sparse_rail_generator(\n",
    "            max_num_cities=env_config[\"n_cities\"],\n",
    "            grid_mode=env_config[\"grid_mode\"],\n",
    "            max_rails_between_cities=env_config[\"max_rails_between_cities\"],\n",
    "            max_rail_pairs_in_city=env_config[\"max_rail_pairs_in_city\"],\n",
    "        ),\n",
    "        'line_generator': sparse_line_generator(env_config[\"speed_ratios\"]),\n",
    "        'number_of_agents': env_config[\"n_agents\"],\n",
    "        'malfunction_generator': ParamMalfunctionGen(malfunction_parameters),\n",
    "    }\n",
    "\n",
    "    if MODE == \"train\":\n",
    "        env_args[\"random_seed\"] = env_config[\"random_seed\"]\n",
    "\n",
    "    env = RailEnv(**env_args)\n",
    "    env.reset()   # TODO: remove this line(?)\n",
    "    level_id = env_config[\"env_id\"]\n",
    "    save_function(env, os.path.join(PATH, env_config[\"test_id\"], f\"{level_id}.pkl\"))"
   ]
  },
  {
   "cell_type": "code",
   "execution_count": null,
   "metadata": {},
   "outputs": [],
   "source": []
  }
 ],
 "metadata": {
  "kernelspec": {
   "display_name": "flatland-rl",
   "language": "python",
   "name": "python3"
  },
  "language_info": {
   "codemirror_mode": {
    "name": "ipython",
    "version": 3
   },
   "file_extension": ".py",
   "mimetype": "text/x-python",
   "name": "python",
   "nbconvert_exporter": "python",
   "pygments_lexer": "ipython3",
   "version": "3.9.20"
  }
 },
 "nbformat": 4,
 "nbformat_minor": 2
}
